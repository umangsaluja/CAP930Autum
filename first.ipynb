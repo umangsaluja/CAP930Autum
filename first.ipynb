{
  "nbformat": 4,
  "nbformat_minor": 0,
  "metadata": {
    "colab": {
      "name": "first.ipynb",
      "version": "0.3.2",
      "provenance": [],
      "collapsed_sections": [],
      "include_colab_link": true
    },
    "kernelspec": {
      "name": "python3",
      "display_name": "Python 3"
    }
  },
  "cells": [
    {
      "cell_type": "markdown",
      "metadata": {
        "id": "view-in-github",
        "colab_type": "text"
      },
      "source": [
        "[View in Colaboratory](https://colab.research.google.com/github/umangsaluja/CAP930Autum/blob/master/first.ipynb)"
      ]
    },
    {
      "metadata": {
        "id": "QQ08SXT6FVrW",
        "colab_type": "code",
        "colab": {
          "base_uri": "https://localhost:8080/",
          "height": 51
        },
        "outputId": "e14fa894-75dc-437c-883b-c94f39166029"
      },
      "cell_type": "code",
      "source": [
        "import numpy as np\n",
        "x=np.array(42)\n",
        "print(x)\n",
        "print(\"a scalar is of rank %d\",x.ndim)\n",
        "\n"
      ],
      "execution_count": 1,
      "outputs": [
        {
          "output_type": "stream",
          "text": [
            "42\n",
            "a scalar is of rank %d 0\n"
          ],
          "name": "stdout"
        }
      ]
    },
    {
      "metadata": {
        "id": "XL5Y2aHaHgjT",
        "colab_type": "text"
      },
      "cell_type": "markdown",
      "source": [
        "this is scalar example"
      ]
    },
    {
      "metadata": {
        "id": "6xWCVIm4GN85",
        "colab_type": "code",
        "colab": {
          "base_uri": "https://localhost:8080/",
          "height": 51
        },
        "outputId": "67a06220-340e-4b01-bc9b-5c74fa53621b"
      },
      "cell_type": "code",
      "source": [
        "import numpy as np\n",
        "y=np.array([20,23,34,45])\n",
        "print(y)\n",
        "print(\"a vector is of rank %d\"%(y.ndim))\n"
      ],
      "execution_count": 4,
      "outputs": [
        {
          "output_type": "stream",
          "text": [
            "[20 23 34 45]\n",
            "a vector is of rank 1\n"
          ],
          "name": "stdout"
        }
      ]
    },
    {
      "metadata": {
        "id": "NFmOZwgdHqwM",
        "colab_type": "text"
      },
      "cell_type": "markdown",
      "source": [
        "this is **vector** example"
      ]
    }
  ]
}